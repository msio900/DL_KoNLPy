{
 "cells": [
  {
   "cell_type": "markdown",
   "source": [
    "# 네이버 영화 수집 긍/부정 모델"
   ],
   "metadata": {}
  },
  {
   "cell_type": "markdown",
   "source": [
    "## 1. 네이버 영화에서 몇개의 영화를 선택하여 한줄평 text 수집한다."
   ],
   "metadata": {}
  },
  {
   "cell_type": "code",
   "execution_count": 11,
   "source": [
    "import requests\r\n",
    "from  bs4 import BeautifulSoup\r\n",
    "import pandas as pd\r\n"
   ],
   "outputs": [],
   "metadata": {}
  },
  {
   "cell_type": "code",
   "execution_count": 12,
   "source": [
    "pages = 50;\r\n",
    "movies_code = [189150, 191920];\r\n",
    "\r\n",
    "mscore = [];\r\n",
    "mtext = [];\r\n",
    "\r\n",
    "print('Strat....')\r\n",
    "for m in range(len(movie_code)):\r\n",
    "    print('Movie Code:', movies_code[m]);\r\n",
    "    for p in range(1, pages):\r\n",
    "        print('start '+str(p)+'Page...');\r\n",
    "        html = requests.get('https://movie.naver.com/movie/bi/mi/pointWriteFormList.nhn?code='+str(movie_code[m])+\r\n",
    "                            '&type=after&isActualPointWriteExecute=false&isMileageSubscriptionAlready=false&isMileageSubscriptionReject=false&page='+str(p))\r\n",
    "        # movie가 m, page가 p\r\n",
    "        html_source = BeautifulSoup(html.content, 'html.parser');\r\n",
    "        i = 0;\r\n",
    "        for li in html_source.find('div', {'class': 'score_result'}).find_all(('li')):\r\n",
    "            reviews = html_source.find( 'span', {'id':'_filtered_ment_' + str(i)});\r\n",
    "            if int(li.em.text) > 8:\r\n",
    "                mscore.append(1);\r\n",
    "                mtext.append(reviews.text.strip());\r\n",
    "            elif int(li.em.text) < 5:\r\n",
    "                mscore.append(0);\r\n",
    "                mtext.append(reviews.text.strip());\r\n",
    "            i += 1;\r\n",
    "print('End....')"
   ],
   "outputs": [
    {
     "output_type": "stream",
     "name": "stdout",
     "text": [
      "Strat....\n",
      "Movie Code: 189150\n",
      "start 1Page...\n",
      "start 2Page...\n",
      "start 3Page...\n",
      "start 4Page...\n",
      "start 5Page...\n",
      "start 6Page...\n",
      "start 7Page...\n",
      "start 8Page...\n",
      "start 9Page...\n",
      "start 10Page...\n",
      "start 11Page...\n",
      "start 12Page...\n",
      "start 13Page...\n",
      "start 14Page...\n",
      "start 15Page...\n",
      "start 16Page...\n",
      "start 17Page...\n",
      "start 18Page...\n",
      "start 19Page...\n",
      "start 20Page...\n",
      "start 21Page...\n",
      "start 22Page...\n",
      "start 23Page...\n",
      "start 24Page...\n",
      "start 25Page...\n",
      "start 26Page...\n",
      "start 27Page...\n",
      "start 28Page...\n",
      "start 29Page...\n",
      "start 30Page...\n",
      "start 31Page...\n",
      "start 32Page...\n",
      "start 33Page...\n",
      "start 34Page...\n",
      "start 35Page...\n",
      "start 36Page...\n",
      "start 37Page...\n",
      "start 38Page...\n",
      "start 39Page...\n",
      "start 40Page...\n",
      "start 41Page...\n",
      "start 42Page...\n",
      "start 43Page...\n",
      "start 44Page...\n",
      "start 45Page...\n",
      "start 46Page...\n",
      "start 47Page...\n",
      "start 48Page...\n",
      "start 49Page...\n",
      "Movie Code: 191920\n",
      "start 1Page...\n",
      "start 2Page...\n",
      "start 3Page...\n",
      "start 4Page...\n",
      "start 5Page...\n",
      "start 6Page...\n",
      "start 7Page...\n",
      "start 8Page...\n",
      "start 9Page...\n",
      "start 10Page...\n",
      "start 11Page...\n",
      "start 12Page...\n",
      "start 13Page...\n",
      "start 14Page...\n",
      "start 15Page...\n",
      "start 16Page...\n",
      "start 17Page...\n",
      "start 18Page...\n",
      "start 19Page...\n",
      "start 20Page...\n",
      "start 21Page...\n",
      "start 22Page...\n",
      "start 23Page...\n",
      "start 24Page...\n",
      "start 25Page...\n",
      "start 26Page...\n",
      "start 27Page...\n",
      "start 28Page...\n",
      "start 29Page...\n",
      "start 30Page...\n",
      "start 31Page...\n",
      "start 32Page...\n",
      "start 33Page...\n",
      "start 34Page...\n",
      "start 35Page...\n",
      "start 36Page...\n",
      "start 37Page...\n",
      "start 38Page...\n",
      "start 39Page...\n",
      "start 40Page...\n",
      "start 41Page...\n",
      "start 42Page...\n",
      "start 43Page...\n",
      "start 44Page...\n",
      "start 45Page...\n",
      "start 46Page...\n",
      "start 47Page...\n",
      "start 48Page...\n",
      "start 49Page...\n",
      "End....\n"
     ]
    }
   ],
   "metadata": {}
  },
  {
   "cell_type": "markdown",
   "source": [
    "## 2. 수집된 TEXT를 파일로 저장한다."
   ],
   "metadata": {}
  },
  {
   "cell_type": "code",
   "execution_count": 13,
   "source": [
    "df = pd.DataFrame([mscore, mtext]).T;\r\n",
    "df.columns = ['score','text'];\r\n",
    "df['score'].value_counts();\r\n",
    "df.to_excel('movies.xlsx', encoding='utf-8-sig');\r\n"
   ],
   "outputs": [],
   "metadata": {}
  },
  {
   "cell_type": "markdown",
   "source": [
    "\r\n",
    "## 3. 파일로 저장한 TEXT를 가지고, koNLPy를 이용하여 명사 단어를 추출한다."
   ],
   "metadata": {}
  },
  {
   "cell_type": "code",
   "execution_count": null,
   "source": [],
   "outputs": [],
   "metadata": {}
  },
  {
   "cell_type": "markdown",
   "source": [
    "## 4. 학습 텍스트와 테스트 텍스트로 나눈다."
   ],
   "metadata": {}
  },
  {
   "cell_type": "code",
   "execution_count": null,
   "source": [],
   "outputs": [],
   "metadata": {}
  },
  {
   "cell_type": "markdown",
   "source": [
    "## 5.  TfidfVectorizer를 이용하여 수치화 한다."
   ],
   "metadata": {}
  },
  {
   "cell_type": "code",
   "execution_count": null,
   "source": [],
   "outputs": [],
   "metadata": {}
  },
  {
   "cell_type": "markdown",
   "source": [
    "## 6. 머신러닝을 이용하여 학습한다."
   ],
   "metadata": {}
  },
  {
   "cell_type": "code",
   "execution_count": null,
   "source": [],
   "outputs": [],
   "metadata": {}
  },
  {
   "cell_type": "markdown",
   "source": [
    "## 7. 실제 입력한 문장을 기반으로 예측"
   ],
   "metadata": {}
  },
  {
   "cell_type": "code",
   "execution_count": null,
   "source": [],
   "outputs": [],
   "metadata": {}
  }
 ],
 "metadata": {
  "orig_nbformat": 4,
  "language_info": {
   "name": "python",
   "version": "3.8.11",
   "mimetype": "text/x-python",
   "codemirror_mode": {
    "name": "ipython",
    "version": 3
   },
   "pygments_lexer": "ipython3",
   "nbconvert_exporter": "python",
   "file_extension": ".py"
  },
  "kernelspec": {
   "name": "python3",
   "display_name": "Python 3.8.11 64-bit ('DLearning': conda)"
  },
  "interpreter": {
   "hash": "a45cc5bc0718893bc0971bc103741c93ec27bb7c2d4b5cf12d28925b2de55320"
  }
 },
 "nbformat": 4,
 "nbformat_minor": 2
}